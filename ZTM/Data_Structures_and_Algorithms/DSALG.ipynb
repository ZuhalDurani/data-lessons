{
 "cells": [
  {
   "cell_type": "code",
   "execution_count": null,
   "metadata": {},
   "outputs": [],
   "source": [
    "## JAVASCRIPT PRIMER\n",
    "\n",
    "JAVASCRIPT TYPES\n",
    "-----------------\n",
    "1. Number \n",
    "2. String\n",
    "3. Boolean\n",
    "4. Undefined\n",
    "5. Null\n",
    "<!-- 6. Symbol (new in ECMAScript 6) -->\n",
    "7. Object\n",
    "\n",
    "JAVASCRIPT COMPARISONS\n",
    "-----------------\n",
    "\n",
    "!==\n",
    "===\n",
    ">=\n",
    "<=\n",
    ">\n",
    "<\n",
    "\n",
    "JAVASCRIPT VARIABLES\n",
    "-----------------\n",
    "var\n",
    "<!-- let (new in ECMAScript 6)-->  \n",
    "<!-- const (new in ECMAScript 6)-->\n",
    "\n",
    "JAVASCRIPT CONDITIONALS\n",
    "-----------------\n",
    "if\n",
    "else\n",
    "else if\n",
    "<!-- ternary operator -->\n",
    "<!-- switch -->\n",
    "\n",
    "\n",
    "JAVASCRIPT LOGICAL OPERATORS\n",
    "-----------------\n",
    "&&\n",
    "||\n",
    "!\n",
    "\n",
    "JAVASCRIPT FUNCTIONS\n",
    "-----------------\n",
    "var a = function name() {}\n",
    "function name() {}\n",
    "return\n",
    "<!-- () => (new in ECMAScript 6) -->\n",
    "\n",
    "JAVASCRIPT DATA STRUCTURES\n",
    "-----------------\n",
    "Array\n",
    "Object\n",
    "\n",
    "JAVASCRIPT LOOPING\n",
    "-----------------\n",
    "for\n",
    "while\n",
    "do \n",
    "forEach (new in ECMAScript 5) \n",
    "\n",
    "\n",
    "JAVASCRIPT KEYWORDS\n",
    "-----------------\n",
    "break\n",
    "case\n",
    "catch\n",
    "class\n",
    "const\n",
    "continue\n",
    "debugger\n",
    "default\n",
    "delete\n",
    "do\n",
    "else\n",
    "export\n",
    "extends\n",
    "finally\n",
    "for\n",
    "function\n",
    "if\n",
    "import\n",
    "in\n",
    "instanceof\n",
    "new\n",
    "return\n",
    "super\n",
    "switch\n",
    "this\n",
    "throw\n",
    "try\n",
    "typeof\n",
    "var\n",
    "void\n",
    "while\n",
    "with\n",
    "yield\n"
   ]
  },
  {
   "cell_type": "markdown",
   "metadata": {},
   "source": []
  },
  {
   "cell_type": "code",
   "execution_count": 60,
   "metadata": {},
   "outputs": [
    {
     "data": {
      "text/plain": [
       "false"
      ]
     },
     "execution_count": 60,
     "metadata": {},
     "output_type": "execute_result"
    }
   ],
   "source": [
    "//Exercise 1\n",
    "\n",
    "// Guess what answers you would get if you ran this in the\n",
    "// Javascript Console in Google Chrome. Once you have an answer  to the questions then \n",
    "// check them by copying them and running it in the console yourself line by line \n",
    "\n",
    "\n",
    "//Evaluate the below:\n",
    "5 + \"34\"\n",
    "5 - \"4\"\n",
    "10 % 5\n",
    "5 % 10\n",
    "\"Java\" + \"Script\"\n",
    "\" \" + \" \"\n",
    "\" \" + 0\n",
    "true + true\n",
    "true + false\n",
    "false + true\n",
    "false - true\n",
    "3 - 4\n",
    "\"Bob\" - \"bill\"\n",
    "\n",
    "\n",
    "//Evaluate the below comparisons:\n",
    "5 >= 1\n",
    "0 === 1\n",
    "4 <= 1\n",
    "1 != 1\n",
    "\"A\" > \"B\"\n",
    "\"B\" < \"C\"\n",
    "\"a\" > \"A\"\n",
    "\"b\" < \"A\"\n",
    "true === false\n",
    "true != true\n",
    "\n",
    "\n",
    "// Make the string: \"Hi There! It's \"sunny\" out\" by using the + sign:"
   ]
  },
  {
   "cell_type": "code",
   "execution_count": 61,
   "metadata": {},
   "outputs": [
    {
     "data": {
      "text/plain": [
       "23"
      ]
     },
     "execution_count": 61,
     "metadata": {},
     "output_type": "execute_result"
    }
   ],
   "source": [
    "//Exercise 2\n",
    "// Wrapping with Number(variable) will change string variable to number\n",
    "\n",
    "\n",
    "// Evaluate what answers you would get if you ran this in the\n",
    "// Javascript Console in Google Chrome. Answer the questions then \n",
    "// check them by copying them and running it in the console yourself \n",
    "// line by line \n",
    "\n",
    "\n",
    "// add variable \"firstName\" and \"lastName\" // so that they equal your name\n",
    "\n",
    "// create a variable that holds the answer // of \"firstName\" + \" \" + \"lastName\"\n",
    "\n",
    "// Evaluate this question. What is a + b?\n",
    "var a = 34;\n",
    "var b = 21;\n",
    "a = 2;\n",
    "a + b // what is the answer here?\n",
    "\n",
    "// What is c equal to?\n",
    "var c;"
   ]
  },
  {
   "cell_type": "code",
   "execution_count": 62,
   "metadata": {},
   "outputs": [],
   "source": [
    "//Exercise 3\n",
    "\n",
    "\n",
    "// Make a Calculator! using prompt(), and variables, make a program that does the following:\n",
    "// 1. Prompts the user for first number.\n",
    "// 2. Stores that first number\n",
    "// 3. Prompts the user for the second number.\n",
    "// 4. stores that number and responds with the SUM by using an alert.  \n",
    "\n",
    "\n",
    "// BONUS: Make a program that can subtract, multiply, and also divide!"
   ]
  },
  {
   "cell_type": "code",
   "execution_count": 63,
   "metadata": {},
   "outputs": [
    {
     "name": "stdout",
     "output_type": "stream",
     "text": [
      "hi Susy\n"
     ]
    }
   ],
   "source": [
    "//Control Flow\n",
    "/* Because this is not a browser the alert func below won't work, use console.log\n",
    "var naam = \"Billy\";\n",
    "if (naam === \"Billy\"){\n",
    "    alert(\"hi Billy\");\n",
    "} else if (naam === \"Susy\"){\n",
    "    alert(\"hi Susy\");\n",
    "} else {\n",
    "    alert(\"I don't know you\")\n",
    "}\n",
    "*/\n",
    "var naam = \"Susy\";\n",
    "if (naam === \"Billy\"){\n",
    "    console.log(\"hi Billy\");\n",
    "} else if (naam === \"Susy\"){\n",
    "    console.log(\"hi Susy\");\n",
    "} else {\n",
    "    console.log(\"I don't know you\");\n",
    "}"
   ]
  },
  {
   "cell_type": "code",
   "execution_count": 64,
   "metadata": {},
   "outputs": [],
   "source": [
    "//Exercise 4\n",
    "// logical operators && || !\n",
    "\n",
    "// Make a keyless car!\n",
    "// This car will only let you drive if you are over 18. Make it do the following:\n",
    "\n",
    "\n",
    "//using prompt() and alert(), ask a user for their age.\n",
    "// IF they say they are below 18, respond with:\n",
    "// \"Sorry, you are too young to drive this car. Powering off\"\n",
    "\n",
    "// IF they say they are 18, respond with:\n",
    "// \"Congratulations on your first year of driving. Enjoy the ride!\"\n",
    "\n",
    "// IF they say they are over 18, respond with:\n",
    "// \"Powering On. Enjoy the ride!\""
   ]
  },
  {
   "cell_type": "code",
   "execution_count": 65,
   "metadata": {},
   "outputs": [
    {
     "name": "stdout",
     "output_type": "stream",
     "text": [
      "Hello\n"
     ]
    }
   ],
   "source": [
    "//Functions\n",
    "function sayHello(){\n",
    "    console.log(\"Hello\");\n",
    "}\n",
    "\n",
    "sayHello();"
   ]
  },
  {
   "cell_type": "code",
   "execution_count": 66,
   "metadata": {},
   "outputs": [
    {
     "name": "stdout",
     "output_type": "stream",
     "text": [
      "Bye\n"
     ]
    }
   ],
   "source": [
    "//Function Expression (Anonymous Function)\n",
    "var sayBye = function(){\n",
    "    console.log(\"Bye\");\n",
    "}\n",
    "\n",
    "sayBye();"
   ]
  },
  {
   "cell_type": "code",
   "execution_count": 67,
   "metadata": {},
   "outputs": [
    {
     "name": "stdout",
     "output_type": "stream",
     "text": [
      "Bye\n"
     ]
    }
   ],
   "source": [
    "//Function Expression (Unanonymous way to do it)\n",
    "var sayBye = function byebye(){\n",
    "    console.log(\"Bye\");\n",
    "}\n",
    "\n",
    "sayBye();"
   ]
  },
  {
   "cell_type": "code",
   "execution_count": 68,
   "metadata": {},
   "outputs": [
    {
     "name": "stdout",
     "output_type": "stream",
     "text": [
      "NaN\n"
     ]
    }
   ],
   "source": [
    "//Function Arguments\n",
    "function multiply(a,b){\n",
    "    //console.log(a,b)\n",
    "    return a*b;\n",
    "}\n",
    "\n",
    "multiply(5,10);\n",
    "\n",
    "function multiply2(a,b){\n",
    "    return a*b;\n",
    "}\n",
    "\n",
    "console.log(Number(multiply2(3*4))); //should alert the result, 12"
   ]
  },
  {
   "cell_type": "code",
   "execution_count": 69,
   "metadata": {},
   "outputs": [
    {
     "ename": "ReferenceError",
     "evalue": "prompt is not defined",
     "output_type": "error",
     "traceback": [
      "evalmachine.<anonymous>:7",
      "var age = prompt(\"What is your age?\");",
      "          ^",
      "",
      "ReferenceError: prompt is not defined",
      "    at evalmachine.<anonymous>:7:11",
      "    at Script.runInThisContext (node:vm:121:12)",
      "    at Object.runInThisContext (node:vm:303:38)",
      "    at run ([eval]:1020:15)",
      "    at onRunRequest ([eval]:864:18)",
      "    at onMessage ([eval]:828:13)",
      "    at process.emit (node:events:518:28)",
      "    at emit (node:internal/child_process:951:14)",
      "    at process.processTicksAndRejections (node:internal/process/task_queues:83:21)"
     ]
    }
   ],
   "source": [
    "//Exercise 5\n",
    "\n",
    "// Make a keyless car EVEN BETTER!\n",
    "// We are improving our car from previous exercise now.\n",
    "// Solutions to future exercises will be in the .js file (meaning Javascript file) from now on.\n",
    "\n",
    "var age = prompt(\"What is your age?\");\n",
    "\n",
    "if (Number(age) < 18) {\n",
    "\talert(\"Sorry, you are too yound to drive this car. Powering off\");\n",
    "} else if (Number(age) > 18) {\n",
    "\talert(\"Powering On. Enjoy the ride!\");\n",
    "} else if (Number(age) === 18) {\n",
    "\talert(\"Congratulations on your first year of driving. Enjoy the ride!\");\n",
    "}\n",
    "\n",
    "//1. Make the above code have a function called checkDriverAge(). Whenever you call this function, you will get prompted for age. Use Function Declaration to create this function.\n",
    "// Notice the benefit in having checkDriverAge() instead of copying and pasting the function everytime?\n",
    "\n",
    "//2. Create another function that does the same thing, called checkDriverAge2() using Function Expression.\n",
    "\n",
    "//BONUS: Instead of using the prompt. Now, only use console.log and make the checkDriverAge() function accept an argument of age, so that if you enter:\n",
    "checkDriverAge(92);\n",
    "//it returns \"Powering On. Enjoy the ride!\""
   ]
  },
  {
   "cell_type": "code",
   "execution_count": null,
   "metadata": {},
   "outputs": [
    {
     "name": "stdout",
     "output_type": "stream",
     "text": [
      "bear\n"
     ]
    },
    {
     "data": {
      "text/plain": [
       "[ 'cat', 'bear', 'elephant', 'bee', 'deer', 'monkey' ]"
      ]
     },
     "execution_count": 36,
     "metadata": {},
     "output_type": "execute_result"
    }
   ],
   "source": [
    "//Data Structure: Arrays\n",
    "var list = [\n",
    "    [\"tiger\",\"cat\",\"bear\",\"bird\"]\n",
    "];\n",
    "console.log(list[0][2]);\n",
    "\n",
    "//Array Methods\n",
    "list.shift();\n",
    "list\n",
    "list.pop();\n",
    "list\n",
    "list.push(\"elephant\");\n",
    "list\n",
    "list.concat([\"bee\", \"deer\"]); \n",
    "\n",
    "var myList = [\"cat\", \"bear\", \"elephant\", \"bee\", \"deer\"];\n",
    "var myNewList = myList.concat([\"monkey\"]);\n",
    "myList\n",
    "myNewList\n",
    "// https://www.w3schools.com/jsref/jsref_obj_array.asp\n"
   ]
  },
  {
   "cell_type": "code",
   "execution_count": null,
   "metadata": {},
   "outputs": [
    {
     "data": {
      "text/plain": [
       "[ 'Kiwi', 'Oranges', 'Blueberries' ]"
      ]
     },
     "execution_count": 38,
     "metadata": {},
     "output_type": "execute_result"
    }
   ],
   "source": [
    "//Exercise 6\n",
    "\n",
    "// using this array,\n",
    "// var array = [\"Banana\", \"Apples\", \"Oranges\", \"Blueberries\"];\n",
    "\n",
    "\n",
    "// 1. Remove the Banana from the array.\n",
    "\n",
    "// 2. Sort the array in order.\n",
    "\n",
    "// 3. Put \"Kiwi\" at the end of the array.\n",
    "\n",
    "// 4. Remove \"Apples\" from the array.\n",
    "\n",
    "// 5. Sort the array in reverse order. (Not alphabetical, but reverse\n",
    "// the current Array i.e. ['a', 'c', 'b'] becomes ['b', 'c', 'a'])\n",
    "\n",
    "//you should have at the end:\n",
    "[\"Kiwi\", \"Oranges\", \"Blueberries\"]\n",
    "\n",
    "// using this array,\n",
    "// var array2 = [\"Banana\", [\"Apples\", [\"Oranges\"], \"Blueberries\"]];\n",
    "// access \"Oranges\"."
   ]
  },
  {
   "cell_type": "code",
   "execution_count": null,
   "metadata": {},
   "outputs": [
    {
     "data": {
      "text/plain": [
       "'secret'"
      ]
     },
     "execution_count": 40,
     "metadata": {},
     "output_type": "execute_result"
    }
   ],
   "source": [
    "//Data Structures: Objects\n",
    "//Can combine Objects and Arrays togethere within each other\n",
    "\n",
    "var user = {\n",
    "    name: \"John\",\n",
    "    age: 34,\n",
    "    hobby: \"Soccer\",\n",
    "    isMarried: false,\n",
    "    spells: [\"fireball\",\"bolt\",\"summon\"],\n",
    "    shout: function(){\n",
    "        console.log(\"AHHHHHHH!\");\n",
    "    }\n",
    "};\n",
    "\n",
    "var list = [\n",
    "    {\n",
    "        username: \"andy\",\n",
    "        password: \"secret\"\n",
    "    },\n",
    "    {\n",
    "        username: \"jess\",\n",
    "        password: \"123\"\n",
    "    }\n",
    "];\n",
    "\n",
    "user.spells\n",
    "user.spells[1];\n",
    "list[0].password;\n",
    "user.shout() //function inside of an object is a method"
   ]
  },
  {
   "cell_type": "code",
   "execution_count": null,
   "metadata": {},
   "outputs": [],
   "source": [
    "//Exercise 7\n",
    "\n",
    "// Create an object and an array which we will use in our facebook exercise. \n",
    "\n",
    "// 1. Create an object that has properties \"username\" and \"password\". Fill those values in with strings.\n",
    "\n",
    "\n",
    "// 2. Create an array which contains the object you have made above and name the array \"database\".\n",
    "\n",
    "// 3. Create an array called \"newsfeed\" which contains 3 objects with properties \"username\" and \"timeline\"."
   ]
  },
  {
   "cell_type": "code",
   "execution_count": null,
   "metadata": {},
   "outputs": [],
   "source": [
    "//Exercise 7 - Solution\n",
    "// Create an object and an array which we will use in our facebook exercise. \n",
    "\n",
    "// 1. Create an object that has properties \"username\" and \"password\". Fill those values in with strings.\n",
    "{\n",
    "\tusername: \"andrei\",\n",
    "\tpassword: \"supersecret\"\n",
    "}\n",
    "\n",
    "// 2. Create an array which contains the object you have made above and name the arry \"database\"\n",
    "var database = [\n",
    "\t{\n",
    "\t\tusername: \"andrei\",\n",
    "\t\tpassword: \"supersecret\"\n",
    "\t}\n",
    "];\n",
    "\n",
    "// 3. Create an array called \"newsfeed\" which contains 3 objects with properties \"username\" and \"timeline\".\n",
    "var newsfeed = [\n",
    "\t{\n",
    "\t\tusername: \"Bobby\",\n",
    "\t\ttimeline: \"So tired from all that learning!\"\n",
    "\t},\n",
    "\t{\n",
    "\t\tusername: \"Sally\",\n",
    "\t\ttimeline: \"Javascript is sooooo cool!\"\n",
    "\t},\n",
    "\t{\n",
    "\t\tusername: \"Mitch\",\n",
    "\t\ttimeline: \"Javascript is preeetyy cool!\"\n",
    "\t}\n",
    "];\n"
   ]
  },
  {
   "cell_type": "code",
   "execution_count": null,
   "metadata": {},
   "outputs": [],
   "source": [
    "//Exercise: Build a Simple Facebook\n",
    "\n",
    "var database = [\n",
    "    {\n",
    "        username: 'andrei',\n",
    "        password: 'supersecret'\n",
    "    }\n",
    "];\n",
    "\n",
    "var newsFeed = [\n",
    "    {\n",
    "        username: 'Bobby',\n",
    "        timeline: 'So tired from all that learning!'\n",
    "    },\n",
    "    {\n",
    "        username: 'Sally',\n",
    "        timeline: 'Javascript is soo cool!'\n",
    "    }\n",
    "];\n",
    "\n",
    "var usrNamePrompt = prompt(\"What's your username?\");\n",
    "var passwordPromopt = prompt(\"What's your password?\");\n",
    "\n",
    "function signIn(user, pass){\n",
    "    if (user === database[0].username &&\n",
    "        pass ===database[0].password) {\n",
    "            console.log(newsFeed);\n",
    "    } else{\n",
    "        alert(\"Sorry, wrong username and password!\")\n",
    "    }\n",
    "}"
   ]
  },
  {
   "cell_type": "code",
   "execution_count": null,
   "metadata": {},
   "outputs": [
    {
     "name": "stdout",
     "output_type": "stream",
     "text": [
      "clean room!\n",
      "brush teeth!\n",
      "exercise!\n",
      "study javascript!\n",
      "eat healthy!\n"
     ]
    }
   ],
   "source": [
    "//Loops - For\n",
    "\n",
    "var todos = [\n",
    "    'clean room',\n",
    "    'brush teeth',\n",
    "    'exercise',\n",
    "    'study javascript',\n",
    "    'eat healthy'\n",
    "];\n",
    "\n",
    "for (var i=0; i<todos.length; i++){\n",
    "    console.log(todos[i]+\"!\");\n",
    "    //todos[i] = todos[i] + '!' <----This will change the array permanently instead of just displaying it\n",
    "    //todos.pop <----This will remove 2 item from list becasue todo length changes each time\n",
    "    //if you want a fixed length assign it to a variable and do i<lenngth_var\n",
    "}"
   ]
  },
  {
   "cell_type": "code",
   "execution_count": null,
   "metadata": {},
   "outputs": [],
   "source": [
    "//Loops - While\n",
    "//checks the while condition, then runs the code\n",
    "var counterOne = 10;\n",
    "while (counterOne > 0) {\n",
    "    console.log(counterOne);\n",
    "    counterOne--\n",
    "}"
   ]
  },
  {
   "cell_type": "code",
   "execution_count": null,
   "metadata": {},
   "outputs": [],
   "source": [
    "//Loops - Do\n",
    "//runs first then checks the while condition\n",
    "var counterTwo = 10\n",
    "do {\n",
    "    console.log(counterTwo);\n",
    "    counterTwo--;\n",
    "} while (counterTwo > 0);"
   ]
  },
  {
   "cell_type": "code",
   "execution_count": null,
   "metadata": {},
   "outputs": [],
   "source": [
    "//Loops - For Each <---new in ECMAScript 5\n",
    "//below you can compare for loop vs for each\n",
    "\n",
    "var todos = [\n",
    "    'clean room',\n",
    "    'brush teeth',\n",
    "    'exercise',\n",
    "    'study javascript',\n",
    "    'eat healthy'\n",
    "];\n",
    "\n",
    "for (var i=0; i<todos.length; i++){\n",
    "    console.log(todos[i]+\"!\");\n",
    "}\n",
    "\n",
    "todos.forEach(function(todo,i) {\n",
    "    console.log(todo,i)\n",
    "})\n",
    "\n",
    "//Can also do it in below way:\n",
    "function logTodos(todo, i){\n",
    "    console.log(todo,i);\n",
    "}\n",
    "todos.forEach(logTodos);"
   ]
  },
  {
   "cell_type": "code",
   "execution_count": null,
   "metadata": {},
   "outputs": [],
   "source": [
    "//Exercise: Build Simple Facebook 2\n",
    "\n",
    "var database = [\n",
    "    {\n",
    "        username: 'andrei',\n",
    "        password: 'supersecret'\n",
    "    },\n",
    "    {\n",
    "        username: 'sally',\n",
    "        password: '123'\n",
    "    }\n",
    "    {\n",
    "        username: 'ingrid',\n",
    "        password: '777'\n",
    "    }\n",
    "];\n",
    "\n",
    "var newsFeed = [\n",
    "    {\n",
    "        username: 'Bobby',\n",
    "        timeline: 'So tired from all that learning!'\n",
    "    },\n",
    "    {\n",
    "        username: 'Sally',\n",
    "        timeline: 'Javascript is soo cool!'\n",
    "    }\n",
    "];\n",
    "\n",
    "var usrNamePrompt = prompt(\"What's your username?\");\n",
    "var passwordPromopt = prompt(\"What's your password?\");\n",
    "\n",
    "function isUserValid(username, password) {\n",
    "    for (var i = 0; i<database.length; i++) {\n",
    "        if(database[i].username === username &&\n",
    "            database[i].password === password){\n",
    "                return true;\n",
    "            }\n",
    "    }\n",
    "    return false;\n",
    "}\n",
    "function signIn(username, password){\n",
    "    if (isUserValid(username, password)) {\n",
    "            console.log(newsFeed);\n",
    "    } else{\n",
    "        alert(\"Sorry, wrong username and password!\")\n",
    "    }\n",
    "}\n",
    "/*\n",
    "function signIn(user, pass){\n",
    "    if (user === database[0].username &&\n",
    "        pass ===database[0].password) {\n",
    "            console.log(newsFeed);\n",
    "    } else{\n",
    "        alert(\"Sorry, wrong username and password!\")\n",
    "    }\n",
    "}\n",
    "*/"
   ]
  }
 ],
 "metadata": {
  "kernelspec": {
   "display_name": "JavaScript (Node.js)",
   "language": "javascript",
   "name": "javascript"
  },
  "language_info": {
   "file_extension": ".js",
   "mimetype": "application/javascript",
   "name": "javascript",
   "version": "20.11.1"
  }
 },
 "nbformat": 4,
 "nbformat_minor": 2
}
