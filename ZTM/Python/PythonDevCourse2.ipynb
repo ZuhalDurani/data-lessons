{
 "cells": [
  {
   "cell_type": "code",
   "execution_count": null,
   "metadata": {},
   "outputs": [
    {
     "name": "stdout",
     "output_type": "stream",
     "text": [
      "55\n"
     ]
    }
   ],
   "source": [
    "# Tricky Counter\n",
    "my_list = [1,2,3,4,5,6,7,8,9,10]\n",
    "#Use iteration to loop over the list and sum up the total of the list\n",
    "counter = 0\n",
    "for i in my_list:\n",
    "    counter = counter + i\n",
    "print(counter)"
   ]
  },
  {
   "cell_type": "code",
   "execution_count": null,
   "metadata": {},
   "outputs": [
    {
     "name": "stdout",
     "output_type": "stream",
     "text": [
      "index of 50 is 50\n"
     ]
    }
   ],
   "source": [
    "# Enumerate: Find the index of the number 50\n",
    "for i,char in enumerate(list(range(100))):\n",
    "    if char == 50:\n",
    "        print(f'index of 50 is: {char}')"
   ]
  },
  {
   "cell_type": "code",
   "execution_count": null,
   "metadata": {},
   "outputs": [
    {
     "name": "stdout",
     "output_type": "stream",
     "text": [
      "['b', 'n']\n"
     ]
    }
   ],
   "source": [
    "# Check for duplicates in list:\n",
    "some_list = ['a','b','c','b','d','m','n','n']\n",
    "duplicates = []\n",
    "for value in some_list:\n",
    "    if some_list.count(value) > 1:\n",
    "        if value not in duplicates:\n",
    "            duplicates.append(value)\n",
    "        \n",
    "print(duplicates)\n"
   ]
  },
  {
   "cell_type": "code",
   "execution_count": null,
   "metadata": {},
   "outputs": [
    {
     "name": "stdout",
     "output_type": "stream",
     "text": [
      "Powering On. Enjoy the ride!\n",
      "Powering On. Enjoy the ride!\n"
     ]
    }
   ],
   "source": [
    "# Tesla\n",
    "def checkDriverAge():\n",
    "    age = input(\"What is your age?: \")\n",
    "    if int(age) < 18:\n",
    "        print(\"Sorry, you are too young to drive this car. Powering off\")\n",
    "    elif int(age) > 18:\n",
    "        print(\"Powering On. Enjoy the ride!\")\n",
    "    elif int(age) == 18:\n",
    "        print(\"Congratulations on your first year of driving. Enjoy the ride!\")\n",
    "checkDriverAge()\n",
    "\n",
    "#1. Wrap the above code in a function called checkDriverAge(). Whenever you call this function, you will get prompted for age. \n",
    "# Notice the benefit in having checkDriverAge() instead of copying and pasting the function everytime?\n",
    "\n",
    "#2 Instead of using the input(). Now, make the checkDriverAge() function accept an argument of age, so that if you enter:\n",
    "#checkDriverAge(92);\n",
    "#it returns \"Powering On. Enjoy the ride!\"\n",
    "#also make it so that the default age is set to 0 if no argument is given.\n",
    "def checkDriverAge(age = 0):\n",
    "    if int(age) < 18:\n",
    "        print(\"Sorry, you are too young to drive this car. Powering off\")\n",
    "    elif int(age) > 18:\n",
    "        print(\"Powering On. Enjoy the ride!\")\n",
    "    elif int(age) == 18:\n",
    "        print(\"Congratulations on your first year of driving. Enjoy the ride!\")\n",
    "checkDriverAge(92)\n"
   ]
  },
  {
   "cell_type": "code",
   "execution_count": null,
   "metadata": {},
   "outputs": [
    {
     "name": "stdout",
     "output_type": "stream",
     "text": [
      "10\n"
     ]
    }
   ],
   "source": [
    "# Functions: print the highest even number from a list\n",
    "def highest_even(li):\n",
    "    evens=[]\n",
    "    for i in li:\n",
    "        if i % 2 == 0:\n",
    "            evens.append(i)\n",
    "    sorted_list = sorted(evens)\n",
    "    return sorted_list[-1]\n",
    "    #return max(evens)\n",
    "        \n",
    "\n",
    "print(highest_even([2,10,2,3,4,8,11]))\n"
   ]
  },
  {
   "cell_type": "code",
   "execution_count": 20,
   "metadata": {},
   "outputs": [],
   "source": [
    "########################################################## OBJECT ORIENTED PROGRAMMING ###############################################################"
   ]
  },
  {
   "cell_type": "code",
   "execution_count": 22,
   "metadata": {},
   "outputs": [
    {
     "name": "stdout",
     "output_type": "stream",
     "text": [
      "The oldest cat is 12 years old\n"
     ]
    }
   ],
   "source": [
    "# Cats Everywhere\n",
    "#Given the below class:\n",
    "class Cat:\n",
    "    species = 'mammal'\n",
    "    def __init__(self, name, age):\n",
    "        self.name = name\n",
    "        self.age = age\n",
    "\n",
    "\n",
    "# 1 Instantiate the Cat object with 3 cats\n",
    "simon = Cat('Simon', 9)\n",
    "tabby = Cat('Tabby', 12)\n",
    "felix = Cat('Felix', 3)\n",
    "\n",
    "\n",
    "# 2 Create a function that finds the oldest cat\n",
    "def oldest_cat(*args):\n",
    "    return max(args)\n",
    "\n",
    "\n",
    "# 3 Print out: \"The oldest cat is x years old.\". x will be the oldest cat age by using the function in #2\n",
    "print(f'The oldest cat is {oldest_cat(simon.age,tabby.age,felix.age)} years old')"
   ]
  },
  {
   "cell_type": "code",
   "execution_count": null,
   "metadata": {},
   "outputs": [
    {
     "name": "stdout",
     "output_type": "stream",
     "text": [
      "Simon is just walking around\n",
      "Sally is just walking around\n",
      "Tikachu is just walking around\n"
     ]
    }
   ],
   "source": [
    "# Pets Everywhere\n",
    "class Pets():\n",
    "    animals = []\n",
    "    def __init__(self, animals):\n",
    "        self.animals = animals\n",
    "\n",
    "    def walk(self):\n",
    "        for animal in self.animals:\n",
    "            print(animal.walk())\n",
    "\n",
    "class Cat():\n",
    "    is_lazy = True\n",
    "\n",
    "    def __init__(self, name, age):\n",
    "        self.name = name\n",
    "        self.age = age\n",
    "\n",
    "    def walk(self):\n",
    "        return f'{self.name} is just walking around'\n",
    "\n",
    "class Simon(Cat):\n",
    "    def sing(self, sounds):\n",
    "        return f'{sounds}'\n",
    "\n",
    "class Sally(Cat):\n",
    "    def sing(self, sounds):\n",
    "        return f'{sounds}'\n",
    "\n",
    "#1 Add another Cat\n",
    "class Tikachu(Cat):\n",
    "    def sing(self, sounds):\n",
    "        return f'{sounds}'\n",
    "#2 Create a list of all of the pets (create 3 cat instances from the above)\n",
    "my_cats = []\n",
    "cat1 = Simon(\"Simon\", 3)\n",
    "cat2 = Sally(\"Sally\", 4)\n",
    "cat3 = Tikachu(\"Tikachu\", 5)\n",
    "\n",
    "my_cats.extend([cat1,cat2,cat3])\n",
    "#3 Instantiate the Pet class with all your cats use variable my_pets\n",
    "my_pets = Pets(my_cats)\n",
    "#4 Output all of the cats walking using the my_pets instance\n",
    "my_pets.walk()"
   ]
  },
  {
   "cell_type": "code",
   "execution_count": null,
   "metadata": {},
   "outputs": [
    {
     "name": "stdout",
     "output_type": "stream",
     "text": [
      "1000\n"
     ]
    }
   ],
   "source": [
    "# Dunder Methods - Extending Lists\n",
    "#return a 1000 for __len__ no matter what\n",
    "class SuperList(list):\n",
    "    def __len__(self):\n",
    "        return 1000\n",
    "super_list1 = SuperList()\n",
    "print(len(super_list1))        \n",
    "    "
   ]
  },
  {
   "cell_type": "code",
   "execution_count": 29,
   "metadata": {},
   "outputs": [],
   "source": [
    "######################################################## FUNCTIONAL PROGRAMMING ###############################################################"
   ]
  },
  {
   "cell_type": "code",
   "execution_count": 33,
   "metadata": {},
   "outputs": [
    {
     "name": "stdout",
     "output_type": "stream",
     "text": [
      "['Sisi', 'Bibi', 'Titi', 'Carla']\n",
      "[('a', 1), ('b', 2), ('c', 3), ('d', 4), ('e', 5)]\n",
      "[73, 65, 76, 100, 88]\n",
      "456\n"
     ]
    }
   ],
   "source": [
    "# Map, Fiter, Zip, Reduce\n",
    "from functools import reduce\n",
    "\n",
    "#1 Capitalize all of the pet names and print the list\n",
    "my_pets = ['sisi', 'bibi', 'titi', 'carla']\n",
    "print(list(map(str.capitalize,my_pets)))\n",
    "\n",
    "#2 Zip the 2 lists into a list of tuples, but sort the numbers from lowest to highest.\n",
    "my_strings = ['a', 'b', 'c', 'd', 'e']\n",
    "my_numbers = [5,4,3,2,1]\n",
    "s_numbers = sorted(my_numbers)\n",
    "print(list(zip(my_strings,s_numbers)))\n",
    "\n",
    "#3 Filter the scores that pass over 50%\n",
    "scores = [73, 20, 65, 19, 76, 100, 88]\n",
    "def check_over_50(i):\n",
    "    return i > 50\n",
    "print(list(filter(check_over_50,scores)))\n",
    "#4 Combine all of the numbers that are in a list on this file using reduce (my_numbers and scores). What is the total?\n",
    "def accumulator(acc, item):\n",
    "    return acc + item\n",
    "print(reduce(accumulator,(s_numbers + scores)))"
   ]
  },
  {
   "cell_type": "code",
   "execution_count": null,
   "metadata": {},
   "outputs": [
    {
     "name": "stdout",
     "output_type": "stream",
     "text": [
      "['SISI', 'BIBI', 'TITI', 'CARLA']\n",
      "[('a', 1), ('b', 2), ('c', 3), ('d', 4), ('e', 5)]\n",
      "[73, 65, 76, 100, 88]\n",
      "456\n"
     ]
    }
   ],
   "source": [
    "#ZTM solution:\n",
    "from functools import reduce\n",
    "\n",
    "#1 Capitalize all of the pet names and print the list\n",
    "my_pets = ['sisi', 'bibi', 'titi', 'carla']\n",
    "\n",
    "def capitalize(string):\n",
    "    return string.upper()\n",
    "\n",
    "print(list(map(capitalize, my_pets)))\n",
    "\n",
    "\n",
    "#2 Zip the 2 lists into a list of tuples, but sort the numbers from lowest to highest.\n",
    "my_strings = ['a', 'b', 'c', 'd', 'e']\n",
    "my_numbers = [5,4,3,2,1]\n",
    "\n",
    "print(list(zip(my_strings,sorted(my_numbers))))\n",
    "\n",
    "\n",
    "#3 Filter the scores that pass over 50%\n",
    "scores = [73, 20, 65, 19, 76, 100, 88]\n",
    "\n",
    "def is_smart_student(score):\n",
    "    return score > 50\n",
    "\n",
    "print(list(filter(is_smart_student, scores)))\n",
    "\n",
    "\n",
    "#4 Combine all of the numbers that are in a list on this file using reduce (my_numbers and scores). What is the total?\n",
    "def accumulator(acc, item):\n",
    "    return acc + item\n",
    "\n",
    "print(reduce(accumulator, (my_numbers + scores)))"
   ]
  },
  {
   "cell_type": "code",
   "execution_count": null,
   "metadata": {},
   "outputs": [
    {
     "name": "stdout",
     "output_type": "stream",
     "text": [
      "[25, 16, 9]\n"
     ]
    }
   ],
   "source": [
    "# lambda expressions\n",
    "##Square: write a lambda expressions that will take a list and make a squared list\n",
    "my_list = [5,4,3]\n",
    "print(list(map(lambda num: num**2, my_list)))\n",
    "\n",
    "##List Sorting: sort by the second item in the tuple\n",
    "a = [(0,2), (4,3), (10,-1), (9,9)]\n",
    "a.sort(key = lambda x: x[1])\n"
   ]
  },
  {
   "cell_type": "code",
   "execution_count": null,
   "metadata": {},
   "outputs": [
    {
     "name": "stdout",
     "output_type": "stream",
     "text": [
      "{1: 2, 2: 4, 3: 6}\n",
      "['b', 'n']\n"
     ]
    }
   ],
   "source": [
    "# List, set, dict comprehensions\n",
    "\n",
    "##Use below list in dict and modify it so that the item is the key, but the item *2 is the value\n",
    "my_dict = {num:num*2 for num in [1,2,3]}\n",
    "print(my_dict)\n",
    "\n",
    "##Change the below code to make it simpler with list comprehension\n",
    "\"\"\" \n",
    "some_list = ['a','b','c','b','d','m','n','n']\n",
    "duplicates = []\n",
    "for value in some_list:\n",
    "    if some_list.count(value) > 1:\n",
    "        if value not in duplicates:\n",
    "        duplicates.append(value)\n",
    "print(duplicates)\n",
    "\n",
    "\"\"\"\n",
    "some_list = ['a','b','c','b','d','m','n','n']\n",
    "duplicates = list(set([x for x in some_list if some_list.count(x) > 1]))\n",
    "print(duplicates)"
   ]
  },
  {
   "cell_type": "code",
   "execution_count": null,
   "metadata": {},
   "outputs": [
    {
     "name": "stdout",
     "output_type": "stream",
     "text": [
      "message has been sent\n"
     ]
    }
   ],
   "source": [
    "# Decorators\n",
    "\n",
    "# Create an @authenticated decorator that only allows the function to run if user1 has 'valid' set to True:\n",
    "user1 = {\n",
    "    'name': 'Sorna',\n",
    "    'valid': True #changing this will either run or not run the message_friends function.\n",
    "}\n",
    "\n",
    "def authenticated(fn):\n",
    "  # code here\n",
    "    def wrapper(*args, **kwargs): \n",
    "        if args[0][\"valid\"]:\n",
    "            return fn(*args, **kwargs)\n",
    "        else: return print(\"invalid user\")\n",
    "    return wrapper\n",
    "\n",
    "@authenticated\n",
    "def message_friends(user):\n",
    "    print('message has been sent')\n",
    "\n",
    "message_friends(user1)\n",
    "\n",
    "\"\"\"\n",
    "\n",
    "This is the process happening above explained by Copilot:\n",
    "\n",
    "Decorator Function (authenticated):\n",
    "\n",
    "    This function takes another function fn as an argument and returns the wrapper function.\n",
    "\n",
    "Wrapper Function (wrapper):\n",
    "\n",
    "    This function is executed in place of the original fn when the decorated function is called. It accepts any number of positional arguments (*args) and keyword arguments (**kwargs).\n",
    "\n",
    "Arguments Check (if args[0][\"valid\"]:):\n",
    "\n",
    "    args[0] refers to the first positional argument passed to the wrapper function. In this case, it's the user dictionary user1.\n",
    "\n",
    "    args[0][\"valid\"] checks the value associated with the key \"valid\" in the user dictionary. If user1[\"valid\"] is True, the condition evaluates to True.\n",
    "\n",
    "Conditional Execution:\n",
    "\n",
    "    If the condition args[0][\"valid\"] is True, the original function fn (which is message_friends in this case) is called with the same arguments.\n",
    "\n",
    "    If the condition is False, it prints \"invalid user\" and does not call the original function.\n",
    "\n",
    "\"\"\"\n",
    " "
   ]
  },
  {
   "cell_type": "code",
   "execution_count": 27,
   "metadata": {},
   "outputs": [],
   "source": [
    "from typing import Dict\n",
    "\n",
    "\n",
    "\n",
    "def message_friends(user: Dict):\n",
    "    if user[\"valid\"] == True:\n",
    "        print('message has been sent')\n",
    "    else:\n",
    "        print(\"invalid user\")\n",
    "\n",
    "def goodnight_friends(user: Dict):\n",
    "    if user[\"valid\"] == True:\n",
    "        print('message has been sent')\n",
    "    else:\n",
    "        print('goodnight ' + user[\"name\"])\n"
   ]
  },
  {
   "cell_type": "code",
   "execution_count": 25,
   "metadata": {},
   "outputs": [
    {
     "name": "stdout",
     "output_type": "stream",
     "text": [
      "message has been sent\n"
     ]
    }
   ],
   "source": [
    "# Create an @authenticated decorator that only allows the function to run if user1 has 'valid' set to True:\n",
    "user1 = {\n",
    "    'name': 'Sorna',\n",
    "    'valid': True #changing this will either run or not run the message_friends function.\n",
    "}\n",
    "\n",
    "\n",
    "message_friends(user1)"
   ]
  },
  {
   "cell_type": "code",
   "execution_count": 26,
   "metadata": {},
   "outputs": [
    {
     "name": "stdout",
     "output_type": "stream",
     "text": [
      "invalid user\n"
     ]
    }
   ],
   "source": [
    "# Create an @authenticated decorator that only allows the function to run if user1 has 'valid' set to True:\n",
    "user2 = {\n",
    "    'name': 'Sorna',\n",
    "    'valid': False #changing this will either run or not run the message_fr\n",
    "}\n",
    "\n",
    "\n",
    "message_friends(user2)"
   ]
  },
  {
   "cell_type": "code",
   "execution_count": null,
   "metadata": {},
   "outputs": [],
   "source": [
    "from typing import Dict\n",
    "\n",
    "def authenticated(user: Dict) -> bool:\n",
    "    if user[\"valid\"] != True:\n",
    "        print(\"invalid user\")\n",
    "        return False\n",
    "    return True\n",
    "\n",
    "def message_friends(user: Dict):\n",
    "    is_authenticated: bool = authenticated(user)\n",
    "    if is_authenticated:\n",
    "        print('message has been sent')\n",
    "\n",
    "\n",
    "def goodnight_friends(user: Dict):\n",
    "    is_authenticated = authenticated(user)\n",
    "    if is_authenticated:\n",
    "        print('goodnight ' + user[\"name\"])\n"
   ]
  },
  {
   "cell_type": "code",
   "execution_count": 33,
   "metadata": {},
   "outputs": [],
   "source": [
    "from typing import Dict\n",
    "\n",
    "# def authenticated(user: Dict) -> bool:\n",
    "#     if user[\"valid\"] != True:\n",
    "#         print(\"invalid user\")\n",
    "#         return False\n",
    "#     return True\n",
    "\n",
    "# A simple decorator function\n",
    "def authenticated(func):\n",
    "    def wrapper(*args, **kwargs):\n",
    "        user: Dict = args[0]\n",
    "        if user[\"valid\"] == True:\n",
    "            func(*args, **kwargs)\n",
    "        else:\n",
    "            print(\"invalid user\")\n",
    "    return wrapper\n",
    "\n",
    "@authenticated\n",
    "def message_friends(user: Dict):\n",
    "    print('message has been sent')\n",
    "\n",
    "@authenticated\n",
    "def goodnight_friends(user: Dict):\n",
    "    print('goodnight ' + user[\"name\"])\n"
   ]
  },
  {
   "cell_type": "code",
   "execution_count": 35,
   "metadata": {},
   "outputs": [
    {
     "name": "stdout",
     "output_type": "stream",
     "text": [
      "message has been sent\n"
     ]
    }
   ],
   "source": [
    "# Create an @authenticated decorator that only allows the function to run if user1 has 'valid' set to True:\n",
    "user1 = {\n",
    "    'name': 'Sorna',\n",
    "    'valid': True #changing this will either run or not run the message_friends function.\n",
    "}\n",
    "\n",
    "\n",
    "message_friends(user1)"
   ]
  },
  {
   "cell_type": "code",
   "execution_count": 39,
   "metadata": {},
   "outputs": [
    {
     "name": "stdout",
     "output_type": "stream",
     "text": [
      "invalid user\n"
     ]
    }
   ],
   "source": [
    "# Create an @authenticated decorator that only allows the function to run if user1 has 'valid' set to True:\n",
    "user1 = {\n",
    "    'name': 'Sorna',\n",
    "    'valid': False #changing this will either run or not run the message_friends function.\n",
    "}\n",
    "\n",
    "\n",
    "goodnight_friends(user1)"
   ]
  },
  {
   "cell_type": "code",
   "execution_count": null,
   "metadata": {},
   "outputs": [],
   "source": [
    "\n",
    "class Point():\n",
    "    x: int\n",
    "    y: int\n",
    "    def __init__(self, x: int, y: int):\n",
    "        self.x = x\n",
    "        self.y = y"
   ]
  },
  {
   "cell_type": "code",
   "execution_count": 46,
   "metadata": {},
   "outputs": [
    {
     "name": "stdout",
     "output_type": "stream",
     "text": [
      "<__main__.Point object at 0x7f1dd0344fd0>\n"
     ]
    }
   ],
   "source": [
    "point = Point(1, 2)\n",
    "print(point)"
   ]
  },
  {
   "cell_type": "code",
   "execution_count": 53,
   "metadata": {},
   "outputs": [],
   "source": [
    "from dataclasses import dataclass\n",
    "\n",
    "@dataclass(frozen=True)\n",
    "class Point():\n",
    "    x: int\n",
    "    y: int"
   ]
  },
  {
   "cell_type": "code",
   "execution_count": 54,
   "metadata": {},
   "outputs": [],
   "source": [
    "point = Point(1, 2)"
   ]
  },
  {
   "cell_type": "code",
   "execution_count": null,
   "metadata": {},
   "outputs": [],
   "source": [
    "point.x = 10"
   ]
  },
  {
   "cell_type": "code",
   "execution_count": 56,
   "metadata": {},
   "outputs": [
    {
     "name": "stdout",
     "output_type": "stream",
     "text": [
      "Point(x=1, y=2)\n"
     ]
    }
   ],
   "source": [
    "print(point)"
   ]
  },
  {
   "cell_type": "code",
   "execution_count": null,
   "metadata": {},
   "outputs": [
    {
     "name": "stdout",
     "output_type": "stream",
     "text": [
      "0\n",
      "1\n",
      "1\n",
      "2\n",
      "3\n",
      "5\n",
      "8\n",
      "13\n",
      "21\n",
      "34\n",
      "55\n",
      "89\n",
      "144\n",
      "233\n",
      "377\n",
      "610\n",
      "987\n",
      "1597\n",
      "2584\n",
      "4181\n",
      "6765\n"
     ]
    }
   ],
   "source": [
    "# Generators - Fibonacci Numbers\n",
    "\n",
    "def fib(number):\n",
    "    a = 0\n",
    "    b = 1\n",
    "    for i in range(number):\n",
    "        yield a\n",
    "        temp = a\n",
    "        a = b\n",
    "        b = temp + b\n",
    "for x in fib(21):\n",
    "    print(x)"
   ]
  },
  {
   "cell_type": "code",
   "execution_count": null,
   "metadata": {},
   "outputs": [],
   "source": [
    "# Modules - Guessing Game - ZTM solution\n",
    "##generate a number 1-10, get input from user, check input is between 1-10, check if # is right guess else ask again\n",
    "\n",
    "from random import randint\n",
    "answer = randint(1,10)\n",
    "\n",
    "while True:\n",
    "    try:\n",
    "        guess = int(input('guess a number 1 through 10:   '))\n",
    "        if 0 < guess < 11:\n",
    "            if guess == answer:\n",
    "                print('you are a genius!')\n",
    "                break\n",
    "        else:\n",
    "            print('hey bozo, I said 1 to 10')\n",
    "    except ValueError:\n",
    "        print('please enter a number')\n",
    "        continue"
   ]
  },
  {
   "cell_type": "code",
   "execution_count": 4,
   "metadata": {},
   "outputs": [
    {
     "name": "stdout",
     "output_type": "stream",
     "text": [
      "Collecting pyjokes\n",
      "  Downloading pyjokes-0.8.3-py3-none-any.whl.metadata (3.4 kB)\n",
      "Downloading pyjokes-0.8.3-py3-none-any.whl (47 kB)\n",
      "Installing collected packages: pyjokes\n",
      "Successfully installed pyjokes-0.8.3\n",
      "\n",
      "\u001b[1m[\u001b[0m\u001b[34;49mnotice\u001b[0m\u001b[1;39;49m]\u001b[0m\u001b[39;49m A new release of pip is available: \u001b[0m\u001b[31;49m24.2\u001b[0m\u001b[39;49m -> \u001b[0m\u001b[32;49m25.0.1\u001b[0m\n",
      "\u001b[1m[\u001b[0m\u001b[34;49mnotice\u001b[0m\u001b[1;39;49m]\u001b[0m\u001b[39;49m To update, run: \u001b[0m\u001b[32;49mpip install --upgrade pip\u001b[0m\n",
      "Note: you may need to restart the kernel to use updated packages.\n",
      "Apparently my password needs to be capitals only so I've changed it to LONDONMADRIDROME\n"
     ]
    }
   ],
   "source": [
    "%pip install pyjokes\n",
    "import pyjokes\n",
    "\n",
    "joke = pyjokes.get_joke('en', 'neutral')\n",
    "print(joke)"
   ]
  },
  {
   "cell_type": "code",
   "execution_count": 5,
   "metadata": {},
   "outputs": [
    {
     "name": "stdout",
     "output_type": "stream",
     "text": [
      "There were computers in Biblical times. Eve had an Apple.\n"
     ]
    }
   ],
   "source": [
    "joke = pyjokes.get_joke('en', 'neutral')\n",
    "print(joke)"
   ]
  },
  {
   "cell_type": "code",
   "execution_count": null,
   "metadata": {},
   "outputs": [],
   "source": [
    "# Useful Modules\n",
    "##Note: Capital is a class, lowercase is a function\n",
    "from collections import Counter, defaultdict, OrderedDict\n",
    "li = [1,2,3,4,5,6,7,7]\n",
    "print(Counter(li))\n",
    "\n",
    "sentence = 'blah blah blah thinking about python'\n",
    "print(Counter(li))\n",
    "print(Counter(sentence))\n",
    "\n",
    "##Counter makes a Counter object that counts the number of times an item occurs in an iterable\n",
    "\n",
    "dictionary = defaultdict(lambda: 5,{'a':1, 'b':2})\n",
    "print(dictionary['c'])\n",
    "\n",
    "##defaultdict Returns a default value that has to be a callable object (e.g. lambda func) if you enter a key that doesn't exist in dict\n",
    "\n",
    "d = OrderedDict()\n",
    "d['a'] = 1\n",
    "d['b'] = 2\n",
    "\n",
    "d2 = OrderedDict()\n",
    "d2['b'] = 2\n",
    "d2['a'] = 1\n",
    "\n",
    "print(d2 == d)\n",
    "##will give False because OrderedDict remembers the order of insertions into dictionary, now default in Python 3!"
   ]
  },
  {
   "cell_type": "code",
   "execution_count": 15,
   "metadata": {},
   "outputs": [
    {
     "name": "stdout",
     "output_type": "stream",
     "text": [
      "05:45:02\n",
      "2025-03-11\n",
      "1\n"
     ]
    }
   ],
   "source": [
    "# Useful Modules 2\n",
    "\n",
    "import datetime\n",
    "print(datetime.time(5,45,2))\n",
    "print(datetime.date.today())\n",
    "\n",
    "from time import time\n",
    "t1 = time()\n",
    "\n",
    "# Lists in python are dynamic, can incrementally increase the list and fill upo memmory. \n",
    "# Arrays take up less memmory and perform faster, you set memmory for it beforehand and specify typecode in ()\n",
    "\n",
    "from array import array\n",
    "arr = array('i', [1,2,3])\n",
    "print(arr[0])"
   ]
  },
  {
   "cell_type": "code",
   "execution_count": null,
   "metadata": {},
   "outputs": [],
   "source": [
    "# Debugging\n",
    "## Use linting, ide/editor, read the errors, use pdb (Python Debugger) from Standard Library\n",
    "import pdb\n",
    "def add(num1, num2):\n",
    "    print(num1, num2)\n",
    "    #print(num1,num2) <---good way to debug as a first step\n",
    "    pdb.set_trace()\n",
    "    t = 4*5\n",
    "    #(Pdb) help\n",
    "    #(Pdb) help list <---lists source code for current file\n",
    "    #(Pdb) step      <---allows you to step through the code/go to next line\n",
    "    #(Pdb) continue  <---lets you continue through code until it returns something\n",
    "    #(Pdb) a         <---gives you all the arguments of the current function you're in\n",
    "    #(Pdb) w         <---shows context of current line you're executing\n",
    "    return num1 + num2\n",
    "add(4, 'hhkhads')\n",
    "#when ipdb runs type in exit"
   ]
  },
  {
   "cell_type": "code",
   "execution_count": 19,
   "metadata": {},
   "outputs": [],
   "source": [
    "# File I/O"
   ]
  },
  {
   "cell_type": "code",
   "execution_count": null,
   "metadata": {},
   "outputs": [
    {
     "name": "stdout",
     "output_type": "stream",
     "text": [
      "(17, 21)\n"
     ]
    }
   ],
   "source": [
    "# Regular Expressions (RegEx)\n",
    "## Use Regexone.com and Regex101.com to practice\n",
    "import re\n",
    "\n",
    "string = 'search inside of this text please!'\n",
    "\n",
    "a = re.search('this', string)\n",
    "print(a.span()) #tells you where the string occurs as a tuple\n",
    "print(a.start()) #tells you where the text starts\n",
    "print(a.end()) #tells you where it ends\n",
    "print(a.group()) #tells you"
   ]
  },
  {
   "cell_type": "code",
   "execution_count": null,
   "metadata": {},
   "outputs": [],
   "source": []
  }
 ],
 "metadata": {
  "kernelspec": {
   "display_name": ".venv",
   "language": "python",
   "name": "python3"
  },
  "language_info": {
   "codemirror_mode": {
    "name": "ipython",
    "version": 3
   },
   "file_extension": ".py",
   "mimetype": "text/x-python",
   "name": "python",
   "nbconvert_exporter": "python",
   "pygments_lexer": "ipython3",
   "version": "3.10.15"
  }
 },
 "nbformat": 4,
 "nbformat_minor": 2
}
