{
 "cells": [
  {
   "cell_type": "code",
   "execution_count": 7,
   "metadata": {},
   "outputs": [
    {
     "name": "stdout",
     "output_type": "stream",
     "text": [
      "55\n"
     ]
    }
   ],
   "source": [
    "# counter\n",
    "my_list = [1,2,3,4,5,6,7,8,9,10]\n",
    "nsum = 0\n",
    "for number in my_list:\n",
    " nsum = nsum + number\n",
    "print(nsum)"
   ]
  },
  {
   "cell_type": "code",
   "execution_count": 15,
   "metadata": {},
   "outputs": [
    {
     "name": "stdout",
     "output_type": "stream",
     "text": [
      "index of 50 is 50\n"
     ]
    }
   ],
   "source": [
    "for i,char in enumerate(list(range(100))):\n",
    "    if char ==50:\n",
    "        print(f'index of 50 is {i}')"
   ]
  },
  {
   "cell_type": "code",
   "execution_count": 20,
   "metadata": {},
   "outputs": [
    {
     "name": "stdout",
     "output_type": "stream",
     "text": [
      "   *   \n",
      "  ***  \n",
      " ***** \n",
      "*******\n",
      "   *   \n",
      "   *   \n"
     ]
    }
   ],
   "source": [
    "picture = [\n",
    "    [0,0,0,1,0,0,0],\n",
    "    [0,0,1,1,1,0,0],\n",
    "    [0,1,1,1,1,1,0],\n",
    "    [1,1,1,1,1,1,1],\n",
    "    [0,0,0,1,0,0,0],\n",
    "    [0,0,0,1,0,0,0]\n",
    "]\n",
    "\n",
    "for row in picture:\n",
    "  for pixel in row:\n",
    "    if pixel == 0:\n",
    "        print(' ', end='')\n",
    "    elif pixel == 1:\n",
    "        print('*', end='')\n",
    "  print('')\n",
    "        "
   ]
  },
  {
   "cell_type": "code",
   "execution_count": 1,
   "metadata": {},
   "outputs": [
    {
     "name": "stdout",
     "output_type": "stream",
     "text": [
      "55\n"
     ]
    }
   ],
   "source": [
    "# tricky counter\n",
    "my_list = [1,2,3,4,5,6,7,8,9,10]\n",
    "sum_counter = 0\n",
    "for item in my_list:\n",
    "  sum_counter = sum_counter + item\n",
    "print(sum_counter)\n",
    "\n"
   ]
  },
  {
   "cell_type": "code",
   "execution_count": 2,
   "metadata": {},
   "outputs": [
    {
     "name": "stdout",
     "output_type": "stream",
     "text": [
      "The character at index of 50 is 50\n"
     ]
    }
   ],
   "source": [
    "# enumerate index\n",
    "for i,char in enumerate(list(range(100))):\n",
    "  if char == 50:\n",
    "    print(f'The character at index of 50 is {i}')"
   ]
  },
  {
   "cell_type": "code",
   "execution_count": 3,
   "metadata": {},
   "outputs": [
    {
     "name": "stdout",
     "output_type": "stream",
     "text": [
      "['b', 'n']\n"
     ]
    }
   ],
   "source": [
    "# Check for duplicates\n",
    "some_list = ['a', 'b', 'c', 'b', 'd', 'm', 'n', 'n']\n",
    "duplicates = []\n",
    "for value in some_list:\n",
    "  if some_list.count(value) > 1 and value not in duplicates:\n",
    "    duplicates.append(value)\n",
    "print(duplicates)"
   ]
  },
  {
   "cell_type": "code",
   "execution_count": null,
   "metadata": {},
   "outputs": [],
   "source": [
    "#1. Wrap the below code in a function called checkDriverAge(). Whenever you call this function, you will get prompted for age. \n",
    "# Notice the benefit in having checkDriverAge() instead of copying and pasting the function everytime?\n",
    "\n",
    "def checkDriverAge(age=0):\n",
    "  age = input(\"What is your age?: \")\n",
    "  \n",
    "  if int(age) < 18:\n",
    "    print(\"Sorry, you are too young to drive this car. Powering off\")\n",
    "  elif int(age) > 18:\n",
    "    print(\"Powering On. Enjoy the ride!\");\n",
    "  elif int(age) == 18:\n",
    "    print(\"Congratulations on your first year of driving. Enjoy the ride!\")\n",
    "checkDriverAge()"
   ]
  },
  {
   "cell_type": "code",
   "execution_count": 1,
   "metadata": {},
   "outputs": [
    {
     "name": "stdout",
     "output_type": "stream",
     "text": [
      "Powering On. Enjoy the ride!\n"
     ]
    }
   ],
   "source": [
    "#2 Instead of using the input(). Now, make the checkDriverAge() function accept an argument of age, so that if you enter:\n",
    "#checkDriverAge(92);\n",
    "#it returns \"Powering On. Enjoy the ride!\"\n",
    "#also make it so that the default age is set to 0 if no argument is given.\n",
    "\n",
    "def checkDriverAge(age=0):\n",
    "  if int(age) < 18:\n",
    "    print(\"Sorry, you are too young to drive this car. Powering off\")\n",
    "  elif int(age) > 18:\n",
    "    print(\"Powering On. Enjoy the ride!\");\n",
    "  elif int(age) == 18:\n",
    "    print(\"Congratulations on your first year of driving. Enjoy the ride!\")\n",
    "checkDriverAge(92)"
   ]
  },
  {
   "cell_type": "code",
   "execution_count": 1,
   "metadata": {},
   "outputs": [
    {
     "name": "stdout",
     "output_type": "stream",
     "text": [
      "10\n"
     ]
    }
   ],
   "source": [
    "def highest_even(li):\n",
    "  evens=[]\n",
    "  for item in li:\n",
    "    if item%2 == 0:\n",
    "      evens.append(item)\n",
    "  return max(evens)    \n",
    "print(highest_even([2,10,2,3,4,8,11]))"
   ]
  },
  {
   "cell_type": "code",
   "execution_count": 2,
   "metadata": {},
   "outputs": [],
   "source": [
    "##OOP"
   ]
  },
  {
   "cell_type": "code",
   "execution_count": null,
   "metadata": {},
   "outputs": [
    {
     "name": "stdout",
     "output_type": "stream",
     "text": [
      "Oldest cat is 8 years old\n"
     ]
    }
   ],
   "source": [
    "#Cats Everywhere\n",
    "#Given the below class:\n",
    "class Cat:\n",
    "    species = 'mammal'\n",
    "    def __init__(self, name, age):\n",
    "        self.name = name\n",
    "        self.age = age\n",
    "\n",
    "\n",
    "# 1 Instantiate the Cat object with 3 cats\n",
    "cat1 = Cat('Tabby', 4)\n",
    "cat2 = Cat('Abby', 6)\n",
    "cat3 = Cat('Scrabby', 8)\n",
    "# 2 Create a function that finds the oldest cat\n",
    "def checkOldestCat(*args):\n",
    "    return max(args)\n",
    "\n",
    "# 3 Print out: \"The oldest cat is x years old.\". x will be the oldest cat age by using the function in #2\n",
    "print(f'Oldest cat is {checkOldestCat(cat1.age,cat2.age,cat3.age)} years old')"
   ]
  },
  {
   "cell_type": "code",
   "execution_count": null,
   "metadata": {},
   "outputs": [
    {
     "name": "stdout",
     "output_type": "stream",
     "text": [
      "[<__main__.Simon object at 0x7f6e58379ba0>, <__main__.Sally object at 0x7f6e583782b0>, <__main__.Mika object at 0x7f6e5837a7a0>]\n",
      "<__main__.Pets object at 0x7f6e58379db0>\n",
      "Simon is just walking around\n",
      "Sally is just walking around\n",
      "Mika is just walking around\n"
     ]
    }
   ],
   "source": [
    "#Pets Everywhere\n",
    "class Pets():\n",
    "    animals = []\n",
    "    def __init__(self, animals):\n",
    "        self.animals = animals\n",
    "\n",
    "    def walk(self):\n",
    "        for animal in self.animals:\n",
    "            print(animal.walk())\n",
    "\n",
    "class Cat():\n",
    "    is_lazy = True\n",
    "\n",
    "    def __init__(self, name, age):\n",
    "        self.name = name\n",
    "        self.age = age\n",
    "\n",
    "    def walk(self):\n",
    "        return f'{self.name} is just walking around'\n",
    "\n",
    "class Simon(Cat):\n",
    "    def sing(self, sounds):\n",
    "        return f'{sounds}'\n",
    "\n",
    "class Sally(Cat):\n",
    "    def sing(self, sounds):\n",
    "        return f'{sounds}'\n",
    "\n",
    "#1 Add another Cat\n",
    "class Mika(Cat):\n",
    "    def sing(self, sounds):\n",
    "        return f'{sounds}'\n",
    "#2 Create a list of all of the pets (create 3 cat instances from the above)\n",
    "my_cats = []\n",
    "\n",
    "cat1 = Simon('Simon', 3)\n",
    "cat2 = Sally('Sally', 4)\n",
    "cat3 = Mika('Mika', 7)\n",
    "\n",
    "my_cats.append(cat1)\n",
    "my_cats.append(cat2)\n",
    "my_cats.append(cat3)\n",
    "\n",
    "#3 Instantiate the Pet class with all your cats use variable my_pets\n",
    "my_pets = Pets(my_cats)\n",
    "\n",
    "#4 Output all of the cats walking using the my_pets instance\n",
    "my_pets.walk()"
   ]
  },
  {
   "cell_type": "code",
   "execution_count": 11,
   "metadata": {},
   "outputs": [
    {
     "name": "stdout",
     "output_type": "stream",
     "text": [
      "1000\n",
      "5\n"
     ]
    }
   ],
   "source": [
    "## Extending Lists\n",
    "class SuperList(list):\n",
    "    def __len__(self):\n",
    "        return 1000\n",
    "    \n",
    "    \n",
    "super_list1 = SuperList();\n",
    "\n",
    "print(len(super_list1))\n",
    "super_list1.append(5)\n",
    "print(super_list1[0])"
   ]
  },
  {
   "cell_type": "code",
   "execution_count": null,
   "metadata": {},
   "outputs": [],
   "source": []
  }
 ],
 "metadata": {
  "kernelspec": {
   "display_name": ".venv",
   "language": "python",
   "name": "python3"
  },
  "language_info": {
   "codemirror_mode": {
    "name": "ipython",
    "version": 3
   },
   "file_extension": ".py",
   "mimetype": "text/x-python",
   "name": "python",
   "nbconvert_exporter": "python",
   "pygments_lexer": "ipython3",
   "version": "3.10.15"
  }
 },
 "nbformat": 4,
 "nbformat_minor": 2
}
